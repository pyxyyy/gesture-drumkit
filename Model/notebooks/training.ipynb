{
 "cells": [
  {
   "cell_type": "code",
   "execution_count": 1,
   "metadata": {},
   "outputs": [
    {
     "name": "stderr",
     "output_type": "stream",
     "text": [
      "Using TensorFlow backend.\n"
     ]
    },
    {
     "data": {
      "text/plain": [
       "PosixPath('/Users/alex/Desktop/gesture-drumkit/Model/sliced_data')"
      ]
     },
     "execution_count": 1,
     "metadata": {},
     "output_type": "execute_result"
    }
   ],
   "source": [
    "import pandas as pd\n",
    "from pathlib import Path\n",
    "import pandas as pd\n",
    "import numpy as np\n",
    "import matplotlib.pyplot as plt\n",
    "import os\n",
    "import math\n",
    "import sys\n",
    "import shutil\n",
    "from scipy import signal\n",
    "from sklearn.model_selection import train_test_split\n",
    "\n",
    "import keras\n",
    "from keras.models import Sequential\n",
    "from keras.layers import Dense, Flatten, BatchNormalization\n",
    "from keras.optimizers import Adam\n",
    "from keras.models import load_model\n",
    "from keras.callbacks import ModelCheckpoint\n",
    "\n",
    "import sklearn\n",
    "import numpy as np\n",
    "import matplotlib.pyplot as plt\n",
    "\n",
    "# num of frames in a window. 50 * 5ms = 250ms\n",
    "WINDOW_SIZE = 50\n",
    "FRAME_BEFORE_PEAK = 35\n",
    "\n",
    "pwd = Path(os.path.dirname(os.path.realpath('__file__')))\n",
    "data_dir = pwd/'sliced_data'\n",
    "\n",
    "data_dir"
   ]
  },
  {
   "cell_type": "code",
   "execution_count": 2,
   "metadata": {},
   "outputs": [],
   "source": [
    "# copied from https://scikit-learn.org/stable/auto_examples/model_selection/plot_confusion_matrix.html\n",
    "def plot_confusion_matrix(y_true, y_pred, classes,\n",
    "                          normalize=True,\n",
    "                          title=None,\n",
    "                          cmap=plt.cm.Blues):\n",
    "    \"\"\"\n",
    "    This function prints and plots the confusion matrix.\n",
    "    Normalization can be applied by setting `normalize=True`.\n",
    "    \"\"\"\n",
    "    if not title:\n",
    "        if normalize:\n",
    "            title = 'Normalized confusion matrix'\n",
    "        else:\n",
    "            title = 'Confusion matrix, without normalization'\n",
    "\n",
    "    # Compute confusion matrix\n",
    "    cm = sklearn.metrics.confusion_matrix(y_true, y_pred)\n",
    "    if normalize:\n",
    "        cm = cm.astype('float') / cm.sum(axis=1)[:, np.newaxis]\n",
    "        print(\"Normalized confusion matrix\")\n",
    "    else:\n",
    "        print('Confusion matrix, without normalization')\n",
    "\n",
    "    print(cm)\n",
    "\n",
    "    fig, ax = plt.subplots()\n",
    "    im = ax.imshow(cm, interpolation='nearest', cmap=cmap)\n",
    "    ax.figure.colorbar(im, ax=ax)\n",
    "    # We want to show all ticks...\n",
    "    ax.set(xticks=np.arange(cm.shape[1]),\n",
    "           yticks=np.arange(cm.shape[0]),\n",
    "           # ... and label them with the respective list entries\n",
    "           xticklabels=classes, yticklabels=classes,\n",
    "           title=title,\n",
    "           ylabel='True label',\n",
    "           xlabel='Predicted label')\n",
    "\n",
    "    # Rotate the tick labels and set their alignment.\n",
    "    plt.setp(ax.get_xticklabels(), rotation=45, ha=\"right\",\n",
    "             rotation_mode=\"anchor\")\n",
    "\n",
    "    # Loop over data dimensions and create text annotations.\n",
    "    fmt = '.2f' if normalize else 'd'\n",
    "    thresh = cm.max() / 2.\n",
    "    for i in range(cm.shape[0]):\n",
    "        for j in range(cm.shape[1]):\n",
    "            ax.text(j, i, format(cm[i, j], fmt),\n",
    "                    ha=\"center\", va=\"center\",\n",
    "                    color=\"white\" if cm[i, j] > thresh else \"black\")\n",
    "    fig.tight_layout()\n",
    "    return ax"
   ]
  },
  {
   "cell_type": "markdown",
   "metadata": {},
   "source": [
    "## Load Dataset"
   ]
  },
  {
   "cell_type": "code",
   "execution_count": 3,
   "metadata": {},
   "outputs": [
    {
     "name": "stdout",
     "output_type": "stream",
     "text": [
      "no-gesture 19811\n",
      "gesture-down 15565\n",
      "gesture-up 16044\n",
      "Using dataset size: 15565\n",
      "Loading folder no-gesture...\n",
      "Loading folder gesture-down...\n",
      "Loading folder gesture-up...\n"
     ]
    },
    {
     "data": {
      "text/plain": [
       "([array([[   0.       ,   19.817356 ,   -3.6610186,   24.887747 ],\n",
       "         [   0.       ,   19.817356 ,   -3.6610186,   24.887747 ],\n",
       "         [   0.       ,   19.34597  ,   -3.2159536,   25.552952 ],\n",
       "         [   0.       ,   19.34597  ,   -3.2159536,   25.081566 ],\n",
       "         [   0.       ,   17.651854 ,   -2.4717858,   25.081566 ],\n",
       "         [   0.       ,   15.304493 ,   -2.1559334,   24.402004 ],\n",
       "         [   0.       ,   15.304493 ,   -2.1559334,   24.402004 ],\n",
       "         [   0.       ,   13.265808 ,   -2.0315063,   23.404198 ],\n",
       "         [   0.       ,   13.265808 ,   -2.0315063,   23.404198 ],\n",
       "         [   0.       ,   11.688939 ,   -2.1750758,   22.406391 ],\n",
       "         [   0.       ,   11.688939 ,   -2.1750758,   22.406391 ],\n",
       "         [   0.       ,   10.564312 ,   -2.2875385,   21.238693 ],\n",
       "         [   0.       ,   10.564312 ,   -2.2875385,   21.238693 ],\n",
       "         [   0.       ,    9.767502 ,   -2.4765716,   19.927427 ],\n",
       "         [   0.       ,    9.767502 ,   -2.4765716,   19.927427 ],\n",
       "         [   0.       ,    9.097511 ,   -2.3952155,   18.55634  ],\n",
       "         [   0.       ,    9.097511 ,   -2.3952155,   18.55634  ],\n",
       "         [   0.       ,    8.580662 ,   -2.2109683,   16.993828 ],\n",
       "         [   0.       ,    8.580662 ,   -2.2109683,   16.993828 ],\n",
       "         [   0.       ,    8.023134 ,   -2.062613 ,   15.622739 ],\n",
       "         [   0.       ,    8.023134 ,   -2.062613 ,   15.622739 ],\n",
       "         [   0.       ,    7.4967136,   -2.17029  ,   14.380865 ],\n",
       "         [   0.       ,    7.4967136,   -2.17029  ,   14.380865 ],\n",
       "         [   0.       ,    7.0947194,   -2.182254 ,   13.165311 ],\n",
       "         [   0.       ,    7.0947194,   -2.182254 ,   13.165311 ],\n",
       "         [   0.       ,    6.5946193,   -2.289931 ,   12.189038 ],\n",
       "         [   0.       ,    6.5946193,   -2.289931 ,   12.189038 ],\n",
       "         [   0.       ,    6.108876 ,   -2.507678 ,   11.4353   ],\n",
       "         [   0.       ,    6.108876 ,   -2.507678 ,   11.4353   ],\n",
       "         [   0.       ,    5.7379885,   -2.5651057,   10.844273 ],\n",
       "         [   0.       ,    5.7379885,   -2.5651057,   10.844273 ],\n",
       "         [   0.       ,    5.4556355,   -2.5172493,   10.174281 ],\n",
       "         [   0.       ,    5.4556355,   -2.5172493,   10.174281 ],\n",
       "         [   0.       ,    5.146961 ,   -2.5579274,    9.745967 ],\n",
       "         [   0.       ,    5.146961 ,   -2.5579274,    9.745967 ],\n",
       "         [   0.       ,    4.9387856,   -2.3688943,    9.23151  ],\n",
       "         [   0.       ,    4.9387856,   -2.3688943,    9.23151  ],\n",
       "         [   0.       ,    4.7832527,   -2.0721843,    8.874979 ],\n",
       "         [   0.       ,    4.7832527,   -2.0721843,    8.874979 ],\n",
       "         [   0.       ,    4.512863 ,   -1.6989042,    8.147561 ],\n",
       "         [   0.       ,    4.512863 ,   -1.6989042,    7.508677 ],\n",
       "         [   0.       ,    4.0941195,   -1.4955142,    7.508677 ],\n",
       "         [   0.       ,    3.6873398,   -1.3423735,    7.109076 ],\n",
       "         [   0.       ,    3.6873398,   -1.3423735,    7.109076 ],\n",
       "         [   0.       ,    3.2374887,   -1.3998014,    6.8315086],\n",
       "         [   0.       ,    3.2374887,   -1.3998014,    6.8315086],\n",
       "         [   0.       ,    2.8594232,   -1.2179466,    6.6305118],\n",
       "         [   0.       ,    2.8594232,   -1.2179466,    6.6305118],\n",
       "         [   0.       ,    2.4550362,   -1.0073783,    6.4677997],\n",
       "         [   0.       ,    2.4550362,   -1.0073783,    6.4677997],\n",
       "         [   1.       ,   45.64     , -144.13     ,   -8.68     ],\n",
       "         [   1.       ,   32.06     , -105.42     ,    2.17     ],\n",
       "         [   1.       ,   18.9      ,  -68.67     ,   11.83     ],\n",
       "         [   1.       ,    6.65     ,  -34.72     ,   19.88     ],\n",
       "         [   1.       ,   -4.41     ,   -4.62     ,   26.04     ],\n",
       "         [   1.       ,  -23.1      ,   21.28     ,   32.97     ],\n",
       "         [   1.       ,  -29.05     ,   60.55     ,   34.37     ],\n",
       "         [   1.       ,  -32.13     ,   75.53     ,   35.07     ],\n",
       "         [   1.       ,  -32.97     ,   88.62     ,   34.86     ],\n",
       "         [   1.       ,  -32.06     ,  100.31     ,   33.81     ],\n",
       "         [   1.       ,  -29.68     ,  110.25     ,   31.99     ],\n",
       "         [   1.       ,  -26.32     ,  118.93     ,   29.960001 ],\n",
       "         [   1.       ,  -22.61     ,  126.840004 ,   28.07     ],\n",
       "         [   1.       ,  -18.83     ,  134.05     ,   26.32     ],\n",
       "         [   1.       ,  -15.26     ,  140.7      ,   25.27     ],\n",
       "         [   1.       ,  -12.6      ,  146.44     ,   24.85     ],\n",
       "         [   1.       ,  -11.13     ,  151.48     ,   25.13     ],\n",
       "         [   1.       ,  -10.64     ,  155.61     ,   26.18     ],\n",
       "         [   1.       ,  -10.64     ,  159.25     ,   27.79     ],\n",
       "         [   1.       ,  -10.15     ,  162.19     ,   29.61     ],\n",
       "         [   1.       ,   -9.31     ,  164.64     ,   31.85     ],\n",
       "         [   1.       ,   -8.05     ,  166.88     ,   34.02     ],\n",
       "         [   1.       ,   -5.67     ,  169.33     ,   35.84     ],\n",
       "         [   1.       ,   -2.38     ,  171.64     ,   36.82     ],\n",
       "         [   1.       ,    1.12     ,  173.6      ,   37.24     ],\n",
       "         [   1.       ,    4.55     ,  174.79     ,   36.96     ],\n",
       "         [   1.       ,    8.26     ,  175.35     ,   36.68     ],\n",
       "         [   1.       ,   12.04     ,  175.63     ,   36.47     ],\n",
       "         [   1.       ,   15.75     ,  175.91     ,   36.26     ],\n",
       "         [   1.       ,   19.460001 ,  175.84     ,   35.77     ],\n",
       "         [   1.       ,   22.89     ,  175.49     ,   35.14     ],\n",
       "         [   1.       ,   26.11     ,  174.93001  ,   34.37     ],\n",
       "         [   1.       ,   28.84     ,  174.16     ,   33.6      ],\n",
       "         [   1.       ,   31.36     ,  173.6      ,   32.76     ],\n",
       "         [   1.       ,   33.88     ,  173.18001  ,   32.06     ],\n",
       "         [   1.       ,   35.420002 ,  173.11     ,   31.57     ],\n",
       "         [   1.       ,   35.91     ,  173.39     ,   31.15     ],\n",
       "         [   1.       ,   35.420002 ,  173.95     ,   30.73     ],\n",
       "         [   1.       ,   34.09     ,  174.3      ,   30.52     ],\n",
       "         [   1.       ,   32.13     ,  174.58     ,   30.59     ],\n",
       "         [   1.       ,   29.960001 ,  174.58     ,   31.01     ],\n",
       "         [   1.       ,   27.44     ,  174.44     ,   31.57     ],\n",
       "         [   1.       ,   23.94     ,  173.88     ,   32.13     ],\n",
       "         [   1.       ,   23.1      ,  171.22     ,   31.99     ],\n",
       "         [   1.       ,   22.82     ,  169.19     ,   31.29     ],\n",
       "         [   1.       ,   23.1      ,  166.95     ,   30.1      ],\n",
       "         [   1.       ,   24.08     ,  164.78     ,   28.56     ],\n",
       "         [   1.       ,   24.99     ,  162.33     ,   26.880001 ],\n",
       "         [   1.       ,   25.83     ,  159.81     ,   25.55     ],\n",
       "         [   1.       ,   26.04     ,  157.15     ,   24.64     ]])],\n",
       " [0],\n",
       " 46695,\n",
       " 46695,\n",
       " (100, 4))"
      ]
     },
     "execution_count": 3,
     "metadata": {},
     "output_type": "execute_result"
    }
   ],
   "source": [
    "dataset = list()\n",
    "target = list()\n",
    "label_mapping = {}\n",
    "\n",
    "label_count = 0\n",
    "\n",
    "# get number of files in each category, take the minimum\n",
    "MIN_DATASET_SIZE = float(\"inf\")\n",
    "for dir_name in os.listdir(data_dir):\n",
    "    if os.path.isdir(data_dir/dir_name):\n",
    "        dir_size = len(os.listdir(data_dir/dir_name))\n",
    "        print(dir_name, dir_size)\n",
    "        if dir_size < MIN_DATASET_SIZE:\n",
    "            MIN_DATASET_SIZE = dir_size\n",
    "print('Using dataset size: %d' % MIN_DATASET_SIZE)\n",
    "            \n",
    "for dir_name in os.listdir(data_dir):\n",
    "    if os.path.isdir(data_dir/dir_name):\n",
    "        print('Loading folder %s...' % dir_name)\n",
    "        # use folder name to classify\n",
    "        label = dir_name\n",
    "        \n",
    "        for idx, f_name in enumerate(os.listdir(data_dir/dir_name)):\n",
    "            # cutting out extra data so as to ensure all classes have the\n",
    "            # same number of training data\n",
    "            if idx >= MIN_DATASET_SIZE:\n",
    "                break\n",
    "            \n",
    "            df = pd.read_csv(data_dir/dir_name/f_name, header=None)\n",
    "            # drop index and timestamp\n",
    "            cols = [0, 5, 6]\n",
    "            df.drop(df.columns[cols], axis=1, inplace=True)\n",
    "            \n",
    "            # map sensor type to numerical values (maybe embeddings' better?)\n",
    "            df.columns = ['sensor_type', 'x', 'y', 'z']\n",
    "            df['sensor_type'] = df['sensor_type'].map({'ACCELEROMETER': 0, 'GYROSCOPE': 1})\n",
    "            values = df.values\n",
    "            dataset.append(values)\n",
    "            target.append(label_count)\n",
    "        \n",
    "        label_mapping[label_count] = label\n",
    "        label_count += 1\n",
    "\n",
    "# dataset is a python list of (100+, 4)-shape np.arrays\n",
    "dataset[:1], target[:1], len(dataset), len(target), dataset[:1][0].shape"
   ]
  },
  {
   "cell_type": "markdown",
   "metadata": {},
   "source": [
    "## Normalisation"
   ]
  },
  {
   "cell_type": "code",
   "execution_count": 4,
   "metadata": {},
   "outputs": [
    {
     "data": {
      "text/plain": [
       "count    46695.0\n",
       "mean       100.0\n",
       "std          0.0\n",
       "min        100.0\n",
       "25%        100.0\n",
       "50%        100.0\n",
       "75%        100.0\n",
       "max        100.0\n",
       "dtype: float64"
      ]
     },
     "execution_count": 4,
     "metadata": {},
     "output_type": "execute_result"
    }
   ],
   "source": [
    "# describe the length of samples\n",
    "# since we have normalised the length during slicing, this is no longer relevant\n",
    "len_sequences = []\n",
    "for one_seq in dataset:\n",
    "    len_sequences.append(len(one_seq))\n",
    "\n",
    "pd.Series(len_sequences).describe()"
   ]
  },
  {
   "cell_type": "code",
   "execution_count": 5,
   "metadata": {},
   "outputs": [
    {
     "data": {
      "text/plain": [
       "array([[-1.        ,  0.12098121,  0.27393942,  0.25042148],\n",
       "       [-1.        ,  0.12098121,  0.27393942,  0.25042148],\n",
       "       [-1.        ,  0.11957682,  0.27442193,  0.2530236 ],\n",
       "       [-1.        ,  0.11957682,  0.27442193,  0.25117965],\n",
       "       [-1.        ,  0.11452955,  0.27522871,  0.25117965],\n",
       "       [-1.        ,  0.10753607,  0.27557114,  0.24852137],\n",
       "       [-1.        ,  0.10753607,  0.27557114,  0.24852137],\n",
       "       [-1.        ,  0.10146223,  0.27570604,  0.24461821],\n",
       "       [-1.        ,  0.10146223,  0.27570604,  0.24461821],\n",
       "       [-1.        ,  0.09676427,  0.27555039,  0.24071503],\n",
       "       [-1.        ,  0.09676427,  0.27555039,  0.24071503],\n",
       "       [-1.        ,  0.09341368,  0.27542846,  0.23614729],\n",
       "       [-1.        ,  0.09341368,  0.27542846,  0.23614729],\n",
       "       [-1.        ,  0.09103975,  0.27522353,  0.23101794],\n",
       "       [-1.        ,  0.09103975,  0.27522353,  0.23101794],\n",
       "       [-1.        ,  0.08904365,  0.27531173,  0.22565459],\n",
       "       [-1.        ,  0.08904365,  0.27531173,  0.22565459],\n",
       "       [-1.        ,  0.0875038 ,  0.27551148,  0.21954243],\n",
       "       [-1.        ,  0.0875038 ,  0.27551148,  0.21954243],\n",
       "       [-1.        ,  0.08584276,  0.27567232,  0.21417908],\n",
       "       [-1.        ,  0.08584276,  0.27567232,  0.21417908],\n",
       "       [-1.        ,  0.0842744 ,  0.27555558,  0.20932117],\n",
       "       [-1.        ,  0.0842744 ,  0.27555558,  0.20932117],\n",
       "       [-1.        ,  0.08307674,  0.27554261,  0.20456623],\n",
       "       [-1.        ,  0.08307674,  0.27554261,  0.20456623],\n",
       "       [-1.        ,  0.0815868 ,  0.27542587,  0.20074729],\n",
       "       [-1.        ,  0.0815868 ,  0.27542587,  0.20074729],\n",
       "       [-1.        ,  0.08013963,  0.2751898 ,  0.19779886],\n",
       "       [-1.        ,  0.08013963,  0.2751898 ,  0.19779886],\n",
       "       [-1.        ,  0.07903464,  0.27512754,  0.19548691],\n",
       "       [-1.        ,  0.07903464,  0.27512754,  0.19548691],\n",
       "       [-1.        ,  0.07819343,  0.27517943,  0.19286607],\n",
       "       [-1.        ,  0.07819343,  0.27517943,  0.19286607],\n",
       "       [-1.        ,  0.0772738 ,  0.27513533,  0.19119061],\n",
       "       [-1.        ,  0.0772738 ,  0.27513533,  0.19119061],\n",
       "       [-1.        ,  0.07665358,  0.27534026,  0.18917818],\n",
       "       [-1.        ,  0.07665358,  0.27534026,  0.18917818],\n",
       "       [-1.        ,  0.0761902 ,  0.27566194,  0.18778352],\n",
       "       [-1.        ,  0.0761902 ,  0.27566194,  0.18778352],\n",
       "       [-1.        ,  0.07538463,  0.27606663,  0.18493804],\n",
       "       [-1.        ,  0.07538463,  0.27606663,  0.18243889],\n",
       "       [-1.        ,  0.07413707,  0.27628713,  0.18243889],\n",
       "       [-1.        ,  0.07292516,  0.27645316,  0.18087575],\n",
       "       [-1.        ,  0.07292516,  0.27645316,  0.18087575],\n",
       "       [-1.        ,  0.07158492,  0.2763909 ,  0.17978997],\n",
       "       [-1.        ,  0.07158492,  0.2763909 ,  0.17978997],\n",
       "       [-1.        ,  0.07045855,  0.27658805,  0.17900372],\n",
       "       [-1.        ,  0.07045855,  0.27658805,  0.17900372],\n",
       "       [-1.        ,  0.06925376,  0.27681634,  0.17836723],\n",
       "       [-1.        ,  0.06925376,  0.27681634,  0.17836723],\n",
       "       [ 1.        ,  0.19791446,  0.12165136,  0.11911281],\n",
       "       [ 1.        ,  0.15745565,  0.16361843,  0.16155531],\n",
       "       [ 1.        ,  0.11824814,  0.20346058,  0.19934283],\n",
       "       [ 1.        ,  0.08175179,  0.24026713,  0.23083242],\n",
       "       [ 1.        ,  0.0488008 ,  0.27289975,  0.25492881],\n",
       "       [ 1.        , -0.0068822 ,  0.30097898,  0.28203724],\n",
       "       [ 1.        , -0.024609  ,  0.34355316,  0.28751369],\n",
       "       [ 1.        , -0.03378522,  0.35979358,  0.29025192],\n",
       "       [ 1.        , -0.03628783,  0.37398497,  0.28943045],\n",
       "       [ 1.        , -0.03357667,  0.38665857,  0.28532311],\n",
       "       [ 1.        , -0.02648595,  0.39743492,  0.27820372],\n",
       "       [ 1.        , -0.01647552,  0.40684526,  0.27026287],\n",
       "       [ 1.        , -0.00542234,  0.41542081,  0.26286966],\n",
       "       [ 1.        ,  0.00583939,  0.42323746,  0.2560241 ],\n",
       "       [ 1.        ,  0.01647547,  0.43044699,  0.25191676],\n",
       "       [ 1.        ,  0.02440039,  0.43666996,  0.25027382],\n",
       "       [ 1.        ,  0.02877995,  0.44213402,  0.25136911],\n",
       "       [ 1.        ,  0.0302398 ,  0.44661152,  0.25547645],\n",
       "       [ 1.        ,  0.0302398 ,  0.45055779,  0.26177437],\n",
       "       [ 1.        ,  0.03169966,  0.45374516,  0.26889376],\n",
       "       [ 1.        ,  0.03420226,  0.45640131,  0.27765608],\n",
       "       [ 1.        ,  0.03795617,  0.45882978,  0.28614458],\n",
       "       [ 1.        ,  0.04504689,  0.46148592,  0.29326396],\n",
       "       [ 1.        ,  0.05484877,  0.46399029,  0.29709748],\n",
       "       [ 1.        ,  0.0652763 ,  0.4661152 ,  0.29874042],\n",
       "       [ 1.        ,  0.07549528,  0.46740533,  0.29764513],\n",
       "       [ 1.        ,  0.08654846,  0.46801245,  0.29654984],\n",
       "       [ 1.        ,  0.09781019,  0.46831601,  0.29572837],\n",
       "       [ 1.        ,  0.10886337,  0.46861956,  0.2949069 ],\n",
       "       [ 1.        ,  0.11991655,  0.46854367,  0.29299014],\n",
       "       [ 1.        ,  0.13013552,  0.46816423,  0.29052574],\n",
       "       [ 1.        ,  0.13972885,  0.46755712,  0.28751369],\n",
       "       [ 1.        ,  0.14786232,  0.46672232,  0.28450164],\n",
       "       [ 1.        ,  0.15537014,  0.4661152 ,  0.28121577],\n",
       "       [ 1.        ,  0.16287796,  0.46565987,  0.27847755],\n",
       "       [ 1.        ,  0.16746608,  0.46558397,  0.27656079],\n",
       "       [ 1.        ,  0.16892593,  0.46588753,  0.27491785],\n",
       "       [ 1.        ,  0.16746608,  0.46649465,  0.27327492],\n",
       "       [ 1.        ,  0.16350361,  0.4668741 ,  0.27245345],\n",
       "       [ 1.        ,  0.1576642 ,  0.46717766,  0.27272727],\n",
       "       [ 1.        ,  0.15119913,  0.46717766,  0.27437021],\n",
       "       [ 1.        ,  0.14369131,  0.46702588,  0.27656079],\n",
       "       [ 1.        ,  0.13326378,  0.46641876,  0.27875137],\n",
       "       [ 1.        ,  0.13076118,  0.46353495,  0.27820372],\n",
       "       [ 1.        ,  0.12992697,  0.46133414,  0.2754655 ],\n",
       "       [ 1.        ,  0.13076118,  0.45890567,  0.27081051],\n",
       "       [ 1.        ,  0.13368088,  0.45655308,  0.26478642],\n",
       "       [ 1.        ,  0.13639204,  0.45389694,  0.25821468],\n",
       "       [ 1.        ,  0.13889465,  0.45116491,  0.25301205],\n",
       "       [ 1.        ,  0.1395203 ,  0.4482811 ,  0.24945235]])"
      ]
     },
     "execution_count": 5,
     "metadata": {},
     "output_type": "execute_result"
    }
   ],
   "source": [
    "# calculate min, max in each column\n",
    "tmp_data = np.array(dataset)\n",
    "concat_data = tmp_data.reshape(-1, tmp_data.shape[-1])\n",
    "col_min = concat_data.min(axis=0)\n",
    "col_max = concat_data.max(axis=0)\n",
    "\n",
    "# apply min-max normalisation\n",
    "for i, row in enumerate(dataset):\n",
    "    dataset[i] = 2*(row - col_min)/(col_max - col_min) -1\n",
    "\n",
    "dataset[0]\n"
   ]
  },
  {
   "cell_type": "code",
   "execution_count": 6,
   "metadata": {},
   "outputs": [
    {
     "name": "stdout",
     "output_type": "stream",
     "text": [
      "[[1. 0. 0.]\n",
      " [1. 0. 0.]\n",
      " [1. 0. 0.]\n",
      " ...\n",
      " [0. 0. 1.]\n",
      " [0. 0. 1.]\n",
      " [0. 0. 1.]]\n"
     ]
    }
   ],
   "source": [
    "target_onehot = keras.utils.to_categorical(target, num_classes=None, dtype='float32')\n",
    "print(target_onehot)"
   ]
  },
  {
   "cell_type": "code",
   "execution_count": 7,
   "metadata": {},
   "outputs": [],
   "source": [
    "# save col mins & maxes\n",
    "import json\n",
    "with open('./col_min_max.json', 'w') as outfile:\n",
    "    json.dump({'col_min': col_min.tolist(), 'col_max': col_max.tolist()}, outfile)"
   ]
  },
  {
   "cell_type": "code",
   "execution_count": 8,
   "metadata": {},
   "outputs": [
    {
     "data": {
      "text/plain": [
       "((37356, 100, 4), (37356, 3), (9339, 100, 4), (9339, 3))"
      ]
     },
     "execution_count": 8,
     "metadata": {},
     "output_type": "execute_result"
    }
   ],
   "source": [
    "train, test, train_target, test_target = train_test_split(dataset, target_onehot, test_size=0.2)\n",
    "train = np.array(train)\n",
    "train_target = np.array(train_target)\n",
    "test = np.array(test)\n",
    "test_target = np.array(test_target)\n",
    "\n",
    "train.shape, train_target.shape, test.shape, test_target.shape"
   ]
  },
  {
   "cell_type": "code",
   "execution_count": 9,
   "metadata": {},
   "outputs": [
    {
     "name": "stdout",
     "output_type": "stream",
     "text": [
      "WARNING:tensorflow:From /Users/alex/miniconda3/lib/python3.7/site-packages/tensorflow/python/framework/op_def_library.py:263: colocate_with (from tensorflow.python.framework.ops) is deprecated and will be removed in a future version.\n",
      "Instructions for updating:\n",
      "Colocations handled automatically by placer.\n",
      "_________________________________________________________________\n",
      "Layer (type)                 Output Shape              Param #   \n",
      "=================================================================\n",
      "dense_1 (Dense)              (None, 100, 256)          1280      \n",
      "_________________________________________________________________\n",
      "batch_normalization_1 (Batch (None, 100, 256)          1024      \n",
      "_________________________________________________________________\n",
      "dense_2 (Dense)              (None, 100, 256)          65792     \n",
      "_________________________________________________________________\n",
      "flatten_1 (Flatten)          (None, 25600)             0         \n",
      "_________________________________________________________________\n",
      "dense_3 (Dense)              (None, 3)                 76803     \n",
      "=================================================================\n",
      "Total params: 144,899\n",
      "Trainable params: 144,387\n",
      "Non-trainable params: 512\n",
      "_________________________________________________________________\n"
     ]
    }
   ],
   "source": [
    "model = Sequential()\n",
    "model.add(Dense(256, activation=('relu'), input_shape=(dataset[:1][0].shape)))\n",
    "model.add(BatchNormalization())\n",
    "model.add(Dense(256, activation=('relu')))\n",
    "model.add(Flatten())\n",
    "model.add(Dense(label_count, activation='sigmoid'))\n",
    "model.summary()"
   ]
  },
  {
   "cell_type": "code",
   "execution_count": 10,
   "metadata": {},
   "outputs": [
    {
     "name": "stdout",
     "output_type": "stream",
     "text": [
      "WARNING:tensorflow:From /Users/alex/miniconda3/lib/python3.7/site-packages/tensorflow/python/ops/math_ops.py:3066: to_int32 (from tensorflow.python.ops.math_ops) is deprecated and will be removed in a future version.\n",
      "Instructions for updating:\n",
      "Use tf.cast instead.\n",
      "Train on 33620 samples, validate on 3736 samples\n",
      "Epoch 1/4\n",
      "33620/33620 [==============================] - 55s 2ms/step - loss: 0.2485 - acc: 0.9122 - val_loss: 0.2074 - val_acc: 0.9261\n",
      "\n",
      "Epoch 00001: val_acc improved from -inf to 0.92612, saving model to best_model.pkl\n",
      "Epoch 2/4\n",
      "33620/33620 [==============================] - 50s 1ms/step - loss: 0.1906 - acc: 0.9307 - val_loss: 0.2018 - val_acc: 0.9293\n",
      "\n",
      "Epoch 00002: val_acc improved from 0.92612 to 0.92934, saving model to best_model.pkl\n",
      "Epoch 3/4\n",
      "33620/33620 [==============================] - 50s 1ms/step - loss: 0.1743 - acc: 0.9350 - val_loss: 0.1761 - val_acc: 0.9339\n",
      "\n",
      "Epoch 00003: val_acc improved from 0.92934 to 0.93389, saving model to best_model.pkl\n",
      "Epoch 4/4\n",
      "33620/33620 [==============================] - 51s 2ms/step - loss: 0.1655 - acc: 0.9378 - val_loss: 0.1739 - val_acc: 0.9374\n",
      "\n",
      "Epoch 00004: val_acc improved from 0.93389 to 0.93737, saving model to best_model.pkl\n"
     ]
    },
    {
     "data": {
      "text/plain": [
       "<keras.callbacks.History at 0x1c2ba9a908>"
      ]
     },
     "execution_count": 10,
     "metadata": {},
     "output_type": "execute_result"
    }
   ],
   "source": [
    "adam = Adam(lr=0.0001)\n",
    "chk = ModelCheckpoint('best_model.pkl', monitor='val_acc', save_best_only=True, mode='max', verbose=1)\n",
    "model.compile(loss='categorical_crossentropy', optimizer=adam, metrics=['accuracy'])\n",
    "model.fit(train, train_target, epochs=4, batch_size=8, callbacks=[chk], validation_split=0.1)"
   ]
  },
  {
   "cell_type": "code",
   "execution_count": 11,
   "metadata": {},
   "outputs": [],
   "source": [
    "#loading the model and checking accuracy on the test data\n",
    "model = load_model('best_model.pkl')\n",
    "\n",
    "from sklearn.metrics import accuracy_score\n",
    "test_preds = model.predict(test)"
   ]
  },
  {
   "cell_type": "code",
   "execution_count": 12,
   "metadata": {},
   "outputs": [
    {
     "name": "stdout",
     "output_type": "stream",
     "text": [
      "Normalized confusion matrix\n",
      "[[8.97767713e-01 3.46166289e-02 6.76156584e-02]\n",
      " [4.71994965e-03 9.94336060e-01 9.43989931e-04]\n",
      " [4.95114007e-02 1.27035831e-02 9.37785016e-01]]\n"
     ]
    },
    {
     "data": {
      "text/plain": [
       "<matplotlib.axes._subplots.AxesSubplot at 0x1c3eeabda0>"
      ]
     },
     "execution_count": 12,
     "metadata": {},
     "output_type": "execute_result"
    },
    {
     "data": {
      "image/png": "[encoded data removed]",
      "text/plain": [
       "<Figure size 432x288 with 2 Axes>"
      ]
     },
     "metadata": {
      "needs_background": "light"
     },
     "output_type": "display_data"
    }
   ],
   "source": [
    "plot_confusion_matrix(test_target.argmax(axis=1), \n",
    "                      test_preds.argmax(axis=1), \n",
    "                      ['no-ges', 'down', 'up']\n",
    "                     )"
   ]
  },
  {
   "cell_type": "code",
   "execution_count": 13,
   "metadata": {},
   "outputs": [
    {
     "name": "stdout",
     "output_type": "stream",
     "text": [
      "Confusion matrix, without normalization\n",
      "[[2775  107  209]\n",
      " [  15 3160    3]\n",
      " [ 152   39 2879]]\n"
     ]
    },
    {
     "data": {
      "text/plain": [
       "<matplotlib.axes._subplots.AxesSubplot at 0x1c3f5de0f0>"
      ]
     },
     "execution_count": 13,
     "metadata": {},
     "output_type": "execute_result"
    },
    {
     "data": {
      "image/png": "[encoded data removed]",
      "text/plain": [
       "<Figure size 432x288 with 2 Axes>"
      ]
     },
     "metadata": {
      "needs_background": "light"
     },
     "output_type": "display_data"
    }
   ],
   "source": [
    "plot_confusion_matrix(test_target.argmax(axis=1), \n",
    "                      test_preds.argmax(axis=1), \n",
    "                      ['no-ges', 'down', 'up'],\n",
    "                      normalize=False\n",
    "                     )"
   ]
  },
  {
   "cell_type": "code",
   "execution_count": null,
   "metadata": {},
   "outputs": [],
   "source": []
  }
 ],
 "metadata": {
  "kernelspec": {
   "display_name": "Python (root)",
   "language": "python",
   "name": "root"
  },
  "language_info": {
   "codemirror_mode": {
    "name": "ipython",
    "version": 3
   },
   "file_extension": ".py",
   "mimetype": "text/x-python",
   "name": "python",
   "nbconvert_exporter": "python",
   "pygments_lexer": "ipython3",
   "version": "3.7.2"
  }
 },
 "nbformat": 4,
 "nbformat_minor": 2
}
