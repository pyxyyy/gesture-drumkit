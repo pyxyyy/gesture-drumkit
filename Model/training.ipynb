{
 "cells": [
  {
   "cell_type": "code",
   "execution_count": 30,
   "metadata": {},
   "outputs": [
    {
     "data": {
      "text/plain": [
       "PosixPath('/Users/alex/Desktop/gesture-drumkit/Model/sliced_data')"
      ]
     },
     "execution_count": 30,
     "metadata": {},
     "output_type": "execute_result"
    }
   ],
   "source": [
    "import pandas as pd\n",
    "from pathlib import Path\n",
    "import pandas as pd\n",
    "import numpy as np\n",
    "import matplotlib.pyplot as plt\n",
    "import os\n",
    "import math\n",
    "import shutil\n",
    "from scipy import signal\n",
    "from sklearn.model_selection import train_test_split\n",
    "\n",
    "import keras\n",
    "from keras.models import Sequential\n",
    "from keras.layers import Dense, Flatten, BatchNormalization\n",
    "from keras.optimizers import Adam\n",
    "from keras.models import load_model\n",
    "from keras.callbacks import ModelCheckpoint\n",
    "\n",
    "import sklearn\n",
    "import numpy as np\n",
    "import matplotlib.pyplot as plt\n",
    "\n",
    "# num of frames in a window. 50 * 5ms = 250ms\n",
    "WINDOW_SIZE = 50\n",
    "FRAME_BEFORE_PEAK = 35\n",
    "\n",
    "pwd = Path(os.path.dirname(os.path.realpath('__file__')))\n",
    "data_dir = pwd/'sliced_data'\n",
    "\n",
    "data_dir"
   ]
  },
  {
   "cell_type": "code",
   "execution_count": 44,
   "metadata": {},
   "outputs": [],
   "source": [
    "# copied from https://scikit-learn.org/stable/auto_examples/model_selection/plot_confusion_matrix.html\n",
    "def plot_confusion_matrix(y_true, y_pred, classes,\n",
    "                          normalize=True,\n",
    "                          title=None,\n",
    "                          cmap=plt.cm.Blues):\n",
    "    \"\"\"\n",
    "    This function prints and plots the confusion matrix.\n",
    "    Normalization can be applied by setting `normalize=True`.\n",
    "    \"\"\"\n",
    "    if not title:\n",
    "        if normalize:\n",
    "            title = 'Normalized confusion matrix'\n",
    "        else:\n",
    "            title = 'Confusion matrix, without normalization'\n",
    "\n",
    "    # Compute confusion matrix\n",
    "    cm = sklearn.metrics.confusion_matrix(y_true, y_pred)\n",
    "    if normalize:\n",
    "        cm = cm.astype('float') / cm.sum(axis=1)[:, np.newaxis]\n",
    "        print(\"Normalized confusion matrix\")\n",
    "    else:\n",
    "        print('Confusion matrix, without normalization')\n",
    "\n",
    "    print(cm)\n",
    "\n",
    "    fig, ax = plt.subplots()\n",
    "    im = ax.imshow(cm, interpolation='nearest', cmap=cmap)\n",
    "    ax.figure.colorbar(im, ax=ax)\n",
    "    # We want to show all ticks...\n",
    "    ax.set(xticks=np.arange(cm.shape[1]),\n",
    "           yticks=np.arange(cm.shape[0]),\n",
    "           # ... and label them with the respective list entries\n",
    "           xticklabels=classes, yticklabels=classes,\n",
    "           title=title,\n",
    "           ylabel='True label',\n",
    "           xlabel='Predicted label')\n",
    "\n",
    "    # Rotate the tick labels and set their alignment.\n",
    "    plt.setp(ax.get_xticklabels(), rotation=45, ha=\"right\",\n",
    "             rotation_mode=\"anchor\")\n",
    "\n",
    "    # Loop over data dimensions and create text annotations.\n",
    "    fmt = '.2f' if normalize else 'd'\n",
    "    thresh = cm.max() / 2.\n",
    "    for i in range(cm.shape[0]):\n",
    "        for j in range(cm.shape[1]):\n",
    "            ax.text(j, i, format(cm[i, j], fmt),\n",
    "                    ha=\"center\", va=\"center\",\n",
    "                    color=\"white\" if cm[i, j] > thresh else \"black\")\n",
    "    fig.tight_layout()\n",
    "    return ax"
   ]
  },
  {
   "cell_type": "markdown",
   "metadata": {},
   "source": [
    "## Load Dataset"
   ]
  },
  {
   "cell_type": "code",
   "execution_count": 18,
   "metadata": {},
   "outputs": [
    {
     "name": "stdout",
     "output_type": "stream",
     "text": [
      "Loading folder no-gesture...\n",
      "Loading folder gesture-down...\n",
      "Loading folder gesture-up...\n"
     ]
    },
    {
     "data": {
      "text/plain": [
       "([array([[ 0.00000000e+00, -2.48374990e+00, -3.08674100e-01,\n",
       "           1.80418810e+00],\n",
       "         [ 0.00000000e+00, -2.48374990e+00, -3.08674100e-01,\n",
       "           1.80418810e+00],\n",
       "         [ 0.00000000e+00, -2.58664100e+00, -4.45064960e-01,\n",
       "           1.36630180e+00],\n",
       "         [ 0.00000000e+00, -2.58664100e+00, -4.45064960e-01,\n",
       "           1.36630180e+00],\n",
       "         [ 0.00000000e+00, -2.62971190e+00, -3.80458800e-01,\n",
       "           7.89631500e-01],\n",
       "         [ 0.00000000e+00, -2.62971190e+00, -3.80458800e-01,\n",
       "           7.89631500e-01],\n",
       "         [ 0.00000000e+00, -2.59142680e+00, -8.85344400e-02,\n",
       "           3.75673150e-01],\n",
       "         [ 0.00000000e+00, -2.59142680e+00, -8.85344400e-02,\n",
       "           3.75673150e-01],\n",
       "         [ 0.00000000e+00, -2.63449760e+00,  4.06779860e-01,\n",
       "          -7.17846800e-02],\n",
       "         [ 0.00000000e+00, -2.63449760e+00,  4.06779860e-01,\n",
       "          -7.17846800e-02],\n",
       "         [ 0.00000000e+00, -2.84985160e+00,  9.73878800e-01,\n",
       "          -2.29710970e-01],\n",
       "         [ 0.00000000e+00, -2.84985160e+00,  9.73878800e-01,\n",
       "          -2.29710970e-01],\n",
       "         [ 0.00000000e+00, -3.16331150e+00,  1.31844520e+00,\n",
       "          -2.15354060e-01],\n",
       "         [ 0.00000000e+00, -3.16331150e+00,  1.31844520e+00,\n",
       "          -2.15354060e-01],\n",
       "         [ 0.00000000e+00, -3.49352100e+00,  1.57447720e+00,\n",
       "          -3.03888470e-01],\n",
       "         [ 0.00000000e+00, -3.49352100e+00,  1.57447720e+00,\n",
       "          -3.03888470e-01],\n",
       "         [ 0.00000000e+00, -3.77108860e+00,  1.44765760e+00,\n",
       "          -3.68494700e-01],\n",
       "         [ 0.00000000e+00, -3.77108860e+00,  1.44765760e+00,\n",
       "          -3.68494700e-01],\n",
       "         [ 0.00000000e+00, -3.98404980e+00,  1.14137640e+00,\n",
       "          -2.91924360e-01],\n",
       "         [ 0.00000000e+00, -3.98404980e+00,  1.14137640e+00,\n",
       "          -2.91924360e-01],\n",
       "         [ 0.00000000e+00, -4.14197640e+00,  7.75274500e-01,\n",
       "          -2.15354060e-01],\n",
       "         [ 0.00000000e+00, -4.14197640e+00,  7.75274500e-01,\n",
       "          -2.15354060e-01],\n",
       "         [ 0.00000000e+00, -4.27597400e+00,  5.04885550e-01,\n",
       "          -1.05284190e-01],\n",
       "         [ 0.00000000e+00, -4.27597400e+00,  5.04885550e-01,\n",
       "          -1.05284190e-01],\n",
       "         [ 0.00000000e+00, -4.39322230e+00,  3.44566500e-01,\n",
       "          -4.30708100e-02],\n",
       "         [ 0.00000000e+00, -4.39322230e+00,  3.44566500e-01,\n",
       "          -4.30708100e-02],\n",
       "         [ 0.00000000e+00, -4.39800830e+00,  2.41675100e-01,\n",
       "           3.11066940e-02],\n",
       "         [ 0.00000000e+00, -4.39800830e+00,  2.41675100e-01,\n",
       "           3.11066940e-02],\n",
       "         [ 0.00000000e+00, -4.43868600e+00,  2.29710970e-01,\n",
       "           3.85244460e-01],\n",
       "         [ 0.00000000e+00, -4.43868600e+00,  2.29710970e-01,\n",
       "           7.80060200e-01],\n",
       "         [ 0.00000000e+00, -4.26879550e+00,  2.08175570e-01,\n",
       "           7.80060200e-01],\n",
       "         [ 0.00000000e+00, -4.01037070e+00,  8.13559740e-02,\n",
       "           1.24666060e+00],\n",
       "         [ 0.00000000e+00, -4.01037070e+00,  8.13559740e-02,\n",
       "           1.24666060e+00],\n",
       "         [ 0.00000000e+00, -3.76630280e+00, -3.23031070e-01,\n",
       "           1.95972170e+00],\n",
       "         [ 0.00000000e+00, -3.76630280e+00, -3.23031070e-01,\n",
       "           1.95972170e+00],\n",
       "         [ 0.00000000e+00, -3.43848590e+00, -8.42273530e-01,\n",
       "           2.84028050e+00],\n",
       "         [ 0.00000000e+00, -3.43848590e+00, -8.42273530e-01,\n",
       "           2.84028050e+00],\n",
       "         [ 0.00000000e+00, -3.11066940e+00, -1.44047930e+00,\n",
       "           4.10129800e+00],\n",
       "         [ 0.00000000e+00, -3.11066940e+00, -1.44047930e+00,\n",
       "           4.10129800e+00],\n",
       "         [ 0.00000000e+00, -2.68235420e+00, -2.19421840e+00,\n",
       "           5.27617400e+00],\n",
       "         [ 0.00000000e+00, -2.68235420e+00, -2.19421840e+00,\n",
       "           5.27617400e+00],\n",
       "         [ 0.00000000e+00, -2.29950260e+00, -2.89052960e+00,\n",
       "           6.32423070e+00],\n",
       "         [ 0.00000000e+00, -2.29950260e+00, -2.89052960e+00,\n",
       "           6.32423070e+00],\n",
       "         [ 0.00000000e+00, -1.79461690e+00, -3.19920370e+00,\n",
       "           6.71665330e+00],\n",
       "         [ 0.00000000e+00, -1.79461690e+00, -3.19920370e+00,\n",
       "           6.71665330e+00],\n",
       "         [ 0.00000000e+00, -1.27776730e+00, -2.68713970e+00,\n",
       "           6.42233600e+00],\n",
       "         [ 0.00000000e+00, -1.27776730e+00, -2.68713970e+00,\n",
       "           6.42233600e+00],\n",
       "         [ 0.00000000e+00, -9.06879700e-01, -1.84486630e+00,\n",
       "           6.16391130e+00],\n",
       "         [ 0.00000000e+00, -9.06879700e-01, -1.84486630e+00,\n",
       "           6.16391130e+00],\n",
       "         [ 1.00000000e+00, -4.34000000e+01,  1.71850000e+02,\n",
       "           3.57000000e+01],\n",
       "         [ 1.00000000e+00, -4.51500000e+01,  1.61910000e+02,\n",
       "           3.54900000e+01],\n",
       "         [ 1.00000000e+00, -4.56400000e+01,  1.52390000e+02,\n",
       "           3.43700000e+01],\n",
       "         [ 1.00000000e+00, -4.52900000e+01,  1.43360000e+02,\n",
       "           3.27600000e+01],\n",
       "         [ 1.00000000e+00, -4.39600000e+01,  1.34890000e+02,\n",
       "           3.11500000e+01],\n",
       "         [ 1.00000000e+00, -4.16500000e+01,  1.27260000e+02,\n",
       "           2.98200000e+01],\n",
       "         [ 1.00000000e+00, -3.83600000e+01,  1.20470000e+02,\n",
       "           2.88400000e+01],\n",
       "         [ 1.00000000e+00, -3.47900000e+01,  1.14730000e+02,\n",
       "           2.80700000e+01],\n",
       "         [ 1.00000000e+00, -3.15700000e+01,  1.09620000e+02,\n",
       "           2.73700000e+01],\n",
       "         [ 1.00000000e+00, -2.91900000e+01,  1.04860000e+02,\n",
       "           2.68100000e+01],\n",
       "         [ 1.00000000e+00, -2.79300000e+01,  1.00030000e+02,\n",
       "           2.63900000e+01],\n",
       "         [ 1.00000000e+00, -2.78600000e+01,  9.51300000e+01,\n",
       "           2.59700000e+01],\n",
       "         [ 1.00000000e+00, -2.94000000e+01,  8.97400000e+01,\n",
       "           2.55500000e+01],\n",
       "         [ 1.00000000e+00, -3.21300000e+01,  8.37900000e+01,\n",
       "           2.51300000e+01],\n",
       "         [ 1.00000000e+00, -3.56300000e+01,  7.72100000e+01,\n",
       "           2.45000000e+01],\n",
       "         [ 1.00000000e+00, -3.95500000e+01,  6.97900000e+01,\n",
       "           2.34500000e+01],\n",
       "         [ 1.00000000e+00, -4.28400000e+01,  6.17400000e+01,\n",
       "           2.18400000e+01],\n",
       "         [ 1.00000000e+00, -4.58500000e+01,  5.27100000e+01,\n",
       "           1.99500000e+01],\n",
       "         [ 1.00000000e+00, -4.83000000e+01,  4.31900000e+01,\n",
       "           1.77800000e+01],\n",
       "         [ 1.00000000e+00, -5.00500000e+01,  3.31800000e+01,\n",
       "           1.54700000e+01],\n",
       "         [ 1.00000000e+00, -5.06100000e+01,  2.30300000e+01,\n",
       "           1.31600000e+01],\n",
       "         [ 1.00000000e+00, -4.99800000e+01,  1.28800000e+01,\n",
       "           1.09900000e+01],\n",
       "         [ 1.00000000e+00, -4.83000000e+01,  3.01000000e+00,\n",
       "           8.96000000e+00],\n",
       "         [ 1.00000000e+00, -4.58500000e+01, -6.65000000e+00,\n",
       "           6.86000000e+00],\n",
       "         [ 1.00000000e+00, -4.25600000e+01, -1.62400000e+01,\n",
       "           4.76000000e+00],\n",
       "         [ 1.00000000e+00, -3.89900000e+01, -2.59700000e+01,\n",
       "           2.66000000e+00],\n",
       "         [ 1.00000000e+00, -3.57000000e+01, -3.59100000e+01,\n",
       "           2.80000000e-01],\n",
       "         [ 1.00000000e+00, -3.29700000e+01, -4.63400000e+01,\n",
       "          -2.17000000e+00],\n",
       "         [ 1.00000000e+00, -3.10800000e+01, -5.72600020e+01,\n",
       "          -4.27000000e+00],\n",
       "         [ 1.00000000e+00, -3.00300000e+01, -6.84600000e+01,\n",
       "          -6.23000000e+00],\n",
       "         [ 1.00000000e+00, -3.00300000e+01, -7.94500000e+01,\n",
       "          -7.91000000e+00],\n",
       "         [ 1.00000000e+00, -3.08000000e+01, -9.03000000e+01,\n",
       "          -9.66000000e+00],\n",
       "         [ 1.00000000e+00, -3.22000000e+01, -1.00730000e+02,\n",
       "          -1.15500000e+01],\n",
       "         [ 1.00000000e+00, -3.63300000e+01, -1.11090004e+02,\n",
       "          -1.55400000e+01],\n",
       "         [ 1.00000000e+00, -3.87100000e+01, -1.31810000e+02,\n",
       "          -1.76400000e+01],\n",
       "         [ 1.00000000e+00, -4.04600000e+01, -1.41540000e+02,\n",
       "          -1.96000000e+01],\n",
       "         [ 1.00000000e+00, -4.09500000e+01, -1.50850000e+02,\n",
       "          -2.15600000e+01],\n",
       "         [ 1.00000000e+00, -3.99000000e+01, -1.59600000e+02,\n",
       "          -2.35900000e+01],\n",
       "         [ 1.00000000e+00, -3.73800000e+01, -1.67720000e+02,\n",
       "          -2.56900000e+01],\n",
       "         [ 1.00000000e+00, -3.39500000e+01, -1.75280000e+02,\n",
       "          -2.76500000e+01],\n",
       "         [ 1.00000000e+00, -3.00300000e+01, -1.81930010e+02,\n",
       "          -2.91900000e+01],\n",
       "         [ 1.00000000e+00, -2.56900000e+01, -1.87810000e+02,\n",
       "          -3.03100000e+01],\n",
       "         [ 1.00000000e+00, -2.08600000e+01, -1.92640000e+02,\n",
       "          -3.11500000e+01],\n",
       "         [ 1.00000000e+00, -1.63100000e+01, -1.96420000e+02,\n",
       "          -3.19200000e+01],\n",
       "         [ 1.00000000e+00, -1.26000000e+01, -1.99640000e+02,\n",
       "          -3.25500000e+01],\n",
       "         [ 1.00000000e+00, -1.00800000e+01, -2.02160000e+02,\n",
       "          -3.33900000e+01],\n",
       "         [ 1.00000000e+00, -7.98000000e+00, -2.04680010e+02,\n",
       "          -3.38800000e+01],\n",
       "         [ 1.00000000e+00, -5.88000000e+00, -2.06990000e+02,\n",
       "          -3.44400000e+01],\n",
       "         [ 1.00000000e+00, -5.11000000e+00, -2.09300000e+02,\n",
       "          -3.45800000e+01],\n",
       "         [ 1.00000000e+00, -7.56000000e+00, -2.12030000e+02,\n",
       "          -3.43700000e+01]])], [0], 20138, 20138, (99, 4))"
      ]
     },
     "execution_count": 18,
     "metadata": {},
     "output_type": "execute_result"
    }
   ],
   "source": [
    "dataset = list()\n",
    "target = list()\n",
    "label_mapping = {}\n",
    "\n",
    "label_count = 0\n",
    "for dir_name in os.listdir(data_dir):\n",
    "    if os.path.isdir(data_dir/dir_name):\n",
    "        print('Loading folder %s...' % dir_name)\n",
    "        # use folder name to classify\n",
    "        label = dir_name\n",
    "        \n",
    "        for f_name in os.listdir(data_dir/dir_name):\n",
    "            df = pd.read_csv(data_dir/dir_name/f_name)\n",
    "            # drop index and timestamp\n",
    "            cols = [0, 5, 6]\n",
    "            df.drop(df.columns[cols], axis=1, inplace=True)\n",
    "            \n",
    "            # map sensor type to numerical values (maybe embeddings' better?)\n",
    "            df.columns = ['sensor_type', 'x', 'y', 'z']\n",
    "            df['sensor_type'] = df['sensor_type'].map({'ACCELEROMETER': 0, 'GYROSCOPE': 1})\n",
    "            values = df.values\n",
    "            dataset.append(values)\n",
    "            target.append(label_count)\n",
    "        \n",
    "        label_mapping[label_count] = label\n",
    "        label_count += 1\n",
    "\n",
    "# dataset is a python list of (100+, 4)-shape np.arrays\n",
    "dataset[:1], target[:1], len(dataset), len(target), dataset[:1][0].shape"
   ]
  },
  {
   "cell_type": "markdown",
   "metadata": {},
   "source": [
    "## Normalisation"
   ]
  },
  {
   "cell_type": "code",
   "execution_count": 19,
   "metadata": {},
   "outputs": [
    {
     "data": {
      "text/plain": [
       "count    20138.0\n",
       "mean        99.0\n",
       "std          0.0\n",
       "min         99.0\n",
       "25%         99.0\n",
       "50%         99.0\n",
       "75%         99.0\n",
       "max         99.0\n",
       "dtype: float64"
      ]
     },
     "execution_count": 19,
     "metadata": {},
     "output_type": "execute_result"
    }
   ],
   "source": [
    "# describe the length of samples\n",
    "# since we have normalised the length during slicing, this is no longer relevant\n",
    "len_sequences = []\n",
    "for one_seq in dataset:\n",
    "    len_sequences.append(len(one_seq))\n",
    "\n",
    "pd.Series(len_sequences).describe()"
   ]
  },
  {
   "cell_type": "code",
   "execution_count": 20,
   "metadata": {},
   "outputs": [
    {
     "data": {
      "text/plain": [
       "array([[-1.        , -0.06124432,  0.16876343,  0.41268792],\n",
       "       [-1.        , -0.06124432,  0.16876343,  0.41268792],\n",
       "       [-1.        , -0.06178831,  0.1684927 ,  0.40932112],\n",
       "       [-1.        , -0.06178831,  0.1684927 ,  0.40932112],\n",
       "       [-1.        , -0.06201603,  0.16862094,  0.40488724],\n",
       "       [-1.        , -0.06201603,  0.16862094,  0.40488724],\n",
       "       [-1.        , -0.06181361,  0.16920039,  0.40170441],\n",
       "       [-1.        , -0.06181361,  0.16920039,  0.40170441],\n",
       "       [-1.        , -0.06204133,  0.17018357,  0.39826402],\n",
       "       [-1.        , -0.06204133,  0.17018357,  0.39826402],\n",
       "       [-1.        , -0.06317993,  0.17130923,  0.39704976],\n",
       "       [-1.        , -0.06317993,  0.17130923,  0.39704976],\n",
       "       [-1.        , -0.06483722,  0.17199318,  0.39716015],\n",
       "       [-1.        , -0.06483722,  0.17199318,  0.39716015],\n",
       "       [-1.        , -0.06658307,  0.17250139,  0.39647943],\n",
       "       [-1.        , -0.06658307,  0.17250139,  0.39647943],\n",
       "       [-1.        , -0.06805059,  0.17224966,  0.39598269],\n",
       "       [-1.        , -0.06805059,  0.17224966,  0.39598269],\n",
       "       [-1.        , -0.06917653,  0.17164171,  0.39657142],\n",
       "       [-1.        , -0.06917653,  0.17164171,  0.39657142],\n",
       "       [-1.        , -0.07001151,  0.17091501,  0.39716015],\n",
       "       [-1.        , -0.07001151,  0.17091501,  0.39716015],\n",
       "       [-1.        , -0.07071996,  0.1703783 ,  0.39800645],\n",
       "       [-1.        , -0.07071996,  0.1703783 ,  0.39800645],\n",
       "       [-1.        , -0.07133987,  0.17006008,  0.39848479],\n",
       "       [-1.        , -0.07133987,  0.17006008,  0.39848479],\n",
       "       [-1.        , -0.07136517,  0.16985584,  0.39905513],\n",
       "       [-1.        , -0.07136517,  0.16985584,  0.39905513],\n",
       "       [-1.        , -0.07158024,  0.16983209,  0.40177801],\n",
       "       [-1.        , -0.07158024,  0.16983209,  0.40481365],\n",
       "       [-1.        , -0.07068201,  0.16978935,  0.40481365],\n",
       "       [-1.        , -0.0693157 ,  0.16953762,  0.40840123],\n",
       "       [-1.        , -0.0693157 ,  0.16953762,  0.40840123],\n",
       "       [-1.        , -0.06802529,  0.16873493,  0.41388378],\n",
       "       [-1.        , -0.06802529,  0.16873493,  0.41388378],\n",
       "       [-1.        , -0.06629209,  0.16770425,  0.42065419],\n",
       "       [-1.        , -0.06629209,  0.16770425,  0.42065419],\n",
       "       [-1.        , -0.06455889,  0.16651684,  0.43034985],\n",
       "       [-1.        , -0.06455889,  0.16651684,  0.43034985],\n",
       "       [-1.        , -0.06229435,  0.16502071,  0.43938318],\n",
       "       [-1.        , -0.06229435,  0.16502071,  0.43938318],\n",
       "       [-1.        , -0.06027018,  0.16363856,  0.44744144],\n",
       "       [-1.        , -0.06027018,  0.16363856,  0.44744144],\n",
       "       [-1.        , -0.05760081,  0.16302586,  0.45045868],\n",
       "       [-1.        , -0.05760081,  0.16302586,  0.45045868],\n",
       "       [-1.        , -0.05486818,  0.16404228,  0.44819575],\n",
       "       [-1.        , -0.05486818,  0.16404228,  0.44819575],\n",
       "       [-1.        , -0.05290726,  0.16571415,  0.44620878],\n",
       "       [-1.        , -0.05290726,  0.16571415,  0.44620878],\n",
       "       [ 1.        , -0.27757217,  0.51049048,  0.67330464],\n",
       "       [ 1.        , -0.28682457,  0.49076004,  0.67169   ],\n",
       "       [ 1.        , -0.28941525,  0.47186328,  0.66307859],\n",
       "       [ 1.        , -0.28756477,  0.45393914,  0.65069969],\n",
       "       [ 1.        , -0.28053294,  0.43712658,  0.63832079],\n",
       "       [ 1.        , -0.26831976,  0.42198138,  0.62809474],\n",
       "       [ 1.        , -0.25092524,  0.40850354,  0.62055976],\n",
       "       [ 1.        , -0.23205033,  0.39710991,  0.61463941],\n",
       "       [ 1.        , -0.21502591,  0.38696679,  0.60925728],\n",
       "       [ 1.        , -0.20244264,  0.37751841,  0.60495158],\n",
       "       [ 1.        , -0.1957809 ,  0.36793108,  0.6017223 ],\n",
       "       [ 1.        , -0.19541081,  0.35820481,  0.59849302],\n",
       "       [ 1.        , -0.20355292,  0.34750591,  0.59526374],\n",
       "       [ 1.        , -0.21798668,  0.33569543,  0.59203446],\n",
       "       [ 1.        , -0.23649149,  0.32263443,  0.58719054],\n",
       "       [ 1.        , -0.25721688,  0.30790607,  0.57911735],\n",
       "       [ 1.        , -0.2746114 ,  0.29192719,  0.56673845],\n",
       "       [ 1.        , -0.29052554,  0.27400306,  0.55220669],\n",
       "       [ 1.        , -0.3034789 ,  0.25510629,  0.53552208],\n",
       "       [ 1.        , -0.31273131,  0.2352369 ,  0.51776105],\n",
       "       [ 1.        , -0.31569208,  0.21508962,  0.50000002],\n",
       "       [ 1.        , -0.31236121,  0.19494234,  0.48331541],\n",
       "       [ 1.        , -0.3034789 ,  0.17535084,  0.46770723],\n",
       "       [ 1.        , -0.29052554,  0.15617618,  0.45156084],\n",
       "       [ 1.        , -0.27313101,  0.13714048,  0.43541445],\n",
       "       [ 1.        , -0.25425611,  0.11782687,  0.41926805],\n",
       "       [ 1.        , -0.23686158,  0.09809643,  0.40096881],\n",
       "       [ 1.        , -0.22242783,  0.07739336,  0.38213135],\n",
       "       [ 1.        , -0.21243523,  0.05571766,  0.36598495],\n",
       "       [ 1.        , -0.20688379,  0.03348617,  0.35091499],\n",
       "       [ 1.        , -0.20688379,  0.01167153,  0.33799787],\n",
       "       [ 1.        , -0.21095485, -0.00986522,  0.32454254],\n",
       "       [ 1.        , -0.21835677, -0.03056829,  0.31001079],\n",
       "       [ 1.        , -0.24019245, -0.05113242,  0.27933264],\n",
       "       [ 1.        , -0.25277572, -0.09226066,  0.26318625],\n",
       "       [ 1.        , -0.26202813, -0.11157427,  0.24811628],\n",
       "       [ 1.        , -0.2646188 , -0.13005419,  0.23304632],\n",
       "       [ 1.        , -0.25906736, -0.14742254,  0.21743814],\n",
       "       [ 1.        , -0.24574389, -0.16354036,  0.20129174],\n",
       "       [ 1.        , -0.22760918, -0.17854662,  0.18622178],\n",
       "       [ 1.        , -0.20688379, -0.19174658,  0.17438109],\n",
       "       [ 1.        , -0.18393782, -0.20341809,  0.16576968],\n",
       "       [ 1.        , -0.15840118, -0.21300542,  0.15931112],\n",
       "       [ 1.        , -0.13434493, -0.22050855,  0.15339078],\n",
       "       [ 1.        , -0.11472983, -0.2269001 ,  0.14854686],\n",
       "       [ 1.        , -0.10140637, -0.23190218,  0.1420883 ],\n",
       "       [ 1.        , -0.09030348, -0.23690429,  0.13832081],\n",
       "       [ 1.        , -0.07920059, -0.24148951,  0.1340151 ],\n",
       "       [ 1.        , -0.07512953, -0.24607475,  0.13293868],\n",
       "       [ 1.        , -0.0880829 , -0.25149368,  0.13455332]])"
      ]
     },
     "execution_count": 20,
     "metadata": {},
     "output_type": "execute_result"
    }
   ],
   "source": [
    "# calculate min, max in each column\n",
    "tmp_data = np.array(dataset)\n",
    "concat_data = tmp_data.reshape(-1, tmp_data.shape[-1])\n",
    "col_min = concat_data.min(axis=0)\n",
    "col_max = concat_data.max(axis=0)\n",
    "\n",
    "# apply min-max normalisation\n",
    "for i, row in enumerate(dataset):\n",
    "    dataset[i] = 2*(row - col_min)/(col_max - col_min) -1\n",
    "\n",
    "dataset[0]\n"
   ]
  },
  {
   "cell_type": "code",
   "execution_count": 21,
   "metadata": {},
   "outputs": [
    {
     "name": "stdout",
     "output_type": "stream",
     "text": [
      "[[1. 0. 0.]\n",
      " [1. 0. 0.]\n",
      " [1. 0. 0.]\n",
      " ...\n",
      " [0. 0. 1.]\n",
      " [0. 0. 1.]\n",
      " [0. 0. 1.]]\n"
     ]
    }
   ],
   "source": [
    "target_onehot = keras.utils.to_categorical(target, num_classes=None, dtype='float32')\n",
    "print(target_onehot)"
   ]
  },
  {
   "cell_type": "code",
   "execution_count": 22,
   "metadata": {},
   "outputs": [],
   "source": [
    "# save col mins & maxes\n",
    "import json\n",
    "with open('./col_min_max.json', 'w') as outfile:\n",
    "    json.dump({'col_min': col_min.tolist(), 'col_max': col_max.tolist()}, outfile)"
   ]
  },
  {
   "cell_type": "code",
   "execution_count": 23,
   "metadata": {},
   "outputs": [
    {
     "data": {
      "text/plain": [
       "((16110, 99, 4), (16110, 3), (4028, 99, 4), (4028, 3))"
      ]
     },
     "execution_count": 23,
     "metadata": {},
     "output_type": "execute_result"
    }
   ],
   "source": [
    "train, test, train_target, test_target = train_test_split(dataset, target_onehot, test_size=0.2)\n",
    "train = np.array(train)\n",
    "train_target = np.array(train_target)\n",
    "test = np.array(test)\n",
    "test_target = np.array(test_target)\n",
    "\n",
    "train.shape, train_target.shape, test.shape, test_target.shape"
   ]
  },
  {
   "cell_type": "code",
   "execution_count": 25,
   "metadata": {},
   "outputs": [
    {
     "name": "stdout",
     "output_type": "stream",
     "text": [
      "WARNING:tensorflow:From /Users/alex/miniconda3/lib/python3.7/site-packages/tensorflow/python/framework/op_def_library.py:263: colocate_with (from tensorflow.python.framework.ops) is deprecated and will be removed in a future version.\n",
      "Instructions for updating:\n",
      "Colocations handled automatically by placer.\n",
      "_________________________________________________________________\n",
      "Layer (type)                 Output Shape              Param #   \n",
      "=================================================================\n",
      "dense_1 (Dense)              (None, 99, 256)           1280      \n",
      "_________________________________________________________________\n",
      "batch_normalization_1 (Batch (None, 99, 256)           1024      \n",
      "_________________________________________________________________\n",
      "dense_2 (Dense)              (None, 99, 256)           65792     \n",
      "_________________________________________________________________\n",
      "flatten_1 (Flatten)          (None, 25344)             0         \n",
      "_________________________________________________________________\n",
      "dense_3 (Dense)              (None, 3)                 76035     \n",
      "=================================================================\n",
      "Total params: 144,131\n",
      "Trainable params: 143,619\n",
      "Non-trainable params: 512\n",
      "_________________________________________________________________\n"
     ]
    }
   ],
   "source": [
    "model = Sequential()\n",
    "model.add(Dense(256, activation=('relu'), input_shape=(dataset[:1][0].shape)))\n",
    "model.add(BatchNormalization())\n",
    "model.add(Dense(256, activation=('relu')))\n",
    "model.add(Flatten())\n",
    "model.add(Dense(label_count, activation='sigmoid'))\n",
    "model.summary()"
   ]
  },
  {
   "cell_type": "code",
   "execution_count": 27,
   "metadata": {},
   "outputs": [
    {
     "name": "stdout",
     "output_type": "stream",
     "text": [
      "Train on 14499 samples, validate on 1611 samples\n",
      "Epoch 1/4\n",
      "14499/14499 [==============================] - 23s 2ms/step - loss: 0.0982 - acc: 0.9581 - val_loss: 0.0946 - val_acc: 0.9597\n",
      "\n",
      "Epoch 00001: val_acc improved from -inf to 0.95965, saving model to best_model.pkl\n",
      "Epoch 2/4\n",
      "14499/14499 [==============================] - 20s 1ms/step - loss: 0.0925 - acc: 0.9608 - val_loss: 0.0926 - val_acc: 0.9640\n",
      "\n",
      "Epoch 00002: val_acc improved from 0.95965 to 0.96400, saving model to best_model.pkl\n",
      "Epoch 3/4\n",
      "14499/14499 [==============================] - 20s 1ms/step - loss: 0.0886 - acc: 0.9633 - val_loss: 0.0913 - val_acc: 0.9553\n",
      "\n",
      "Epoch 00003: val_acc did not improve from 0.96400\n",
      "Epoch 4/4\n",
      "14499/14499 [==============================] - 20s 1ms/step - loss: 0.0843 - acc: 0.9645 - val_loss: 0.0945 - val_acc: 0.9597\n",
      "\n",
      "Epoch 00004: val_acc did not improve from 0.96400\n"
     ]
    },
    {
     "data": {
      "text/plain": [
       "<keras.callbacks.History at 0x1c33f57f98>"
      ]
     },
     "execution_count": 27,
     "metadata": {},
     "output_type": "execute_result"
    }
   ],
   "source": [
    "adam = Adam(lr=0.0001)\n",
    "chk = ModelCheckpoint('best_model.pkl', monitor='val_acc', save_best_only=True, mode='max', verbose=1)\n",
    "model.compile(loss='categorical_crossentropy', optimizer=adam, metrics=['accuracy'])\n",
    "model.fit(train, train_target, epochs=4, batch_size=8, callbacks=[chk], validation_split=0.1)"
   ]
  },
  {
   "cell_type": "code",
   "execution_count": 34,
   "metadata": {},
   "outputs": [],
   "source": [
    "#loading the model and checking accuracy on the test data\n",
    "model = load_model('best_model.pkl')\n",
    "\n",
    "from sklearn.metrics import accuracy_score\n",
    "test_preds = model.predict(test)"
   ]
  },
  {
   "cell_type": "code",
   "execution_count": 42,
   "metadata": {},
   "outputs": [
    {
     "name": "stdout",
     "output_type": "stream",
     "text": [
      "Normalized confusion matrix\n",
      "[[0.98716518 0.00195312 0.0108817 ]\n",
      " [0.10328638 0.88732394 0.00938967]\n",
      " [0.37229437 0.         0.62770563]]\n"
     ]
    },
    {
     "data": {
      "text/plain": [
       "<matplotlib.axes._subplots.AxesSubplot at 0x1c291f40f0>"
      ]
     },
     "execution_count": 42,
     "metadata": {},
     "output_type": "execute_result"
    },
    {
     "data": {
      "image/png": "[encoded data removed]",
      "text/plain": [
       "<Figure size 432x288 with 2 Axes>"
      ]
     },
     "metadata": {
      "needs_background": "light"
     },
     "output_type": "display_data"
    }
   ],
   "source": [
    "plot_confusion_matrix(test_target.argmax(axis=1), \n",
    "                      test_preds.argmax(axis=1), \n",
    "                      ['no-ges', 'down', 'up']\n",
    "                     )"
   ]
  },
  {
   "cell_type": "code",
   "execution_count": 45,
   "metadata": {},
   "outputs": [
    {
     "name": "stdout",
     "output_type": "stream",
     "text": [
      "Confusion matrix, without normalization\n",
      "[[3538    7   39]\n",
      " [  22  189    2]\n",
      " [  86    0  145]]\n"
     ]
    },
    {
     "data": {
      "text/plain": [
       "<matplotlib.axes._subplots.AxesSubplot at 0x1c2b78d208>"
      ]
     },
     "execution_count": 45,
     "metadata": {},
     "output_type": "execute_result"
    },
    {
     "data": {
      "image/png": "[encoded data removed]",
      "text/plain": [
       "<Figure size 432x288 with 2 Axes>"
      ]
     },
     "metadata": {
      "needs_background": "light"
     },
     "output_type": "display_data"
    }
   ],
   "source": [
    "plot_confusion_matrix(test_target.argmax(axis=1), \n",
    "                      test_preds.argmax(axis=1), \n",
    "                      ['no-ges', 'down', 'up'],\n",
    "                      normalize=False\n",
    "                     )"
   ]
  },
  {
   "cell_type": "code",
   "execution_count": null,
   "metadata": {},
   "outputs": [],
   "source": []
  }
 ],
 "metadata": {
  "kernelspec": {
   "display_name": "Python (root)",
   "language": "python",
   "name": "root"
  },
  "language_info": {
   "codemirror_mode": {
    "name": "ipython",
    "version": 3
   },
   "file_extension": ".py",
   "mimetype": "text/x-python",
   "name": "python",
   "nbconvert_exporter": "python",
   "pygments_lexer": "ipython3",
   "version": "3.7.2"
  }
 },
 "nbformat": 4,
 "nbformat_minor": 2
}
